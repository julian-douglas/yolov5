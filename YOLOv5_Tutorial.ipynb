{
  "nbformat": 4,
  "nbformat_minor": 0,
  "metadata": {
    "colab": {
      "name": "YOLOv5s Tutorial.ipynb",
      "provenance": [],
      "collapsed_sections": []
    },
    "kernelspec": {
      "name": "python3",
      "display_name": "Python 3"
    },
    "language_info": {
      "name": "python"
    }
  },
  "cells": [
    {
      "cell_type": "markdown",
      "metadata": {
        "id": "mJLKoguHFNbQ"
      },
      "source": [
        "#Implementing YOLOv5 on a Custom Dataset with CSPDarknet53 Backbone\n",
        "\n",
        "\n",
        "\n"
      ]
    },
    {
      "cell_type": "markdown",
      "metadata": {
        "id": "L-3Iqbo9Frni"
      },
      "source": [
        "## 1. Clone repository and install dependencies"
      ]
    },
    {
      "cell_type": "code",
      "metadata": {
        "id": "DOiYKjEuHdP_"
      },
      "source": [
        "!git clone https://github.com/julian-douglas/yolov5"
      ],
      "execution_count": null,
      "outputs": []
    },
    {
      "cell_type": "code",
      "metadata": {
        "id": "xLGra3sUHho2"
      },
      "source": [
        "%cd yolov5\n",
        "!pip install -qr requirements.txt"
      ],
      "execution_count": null,
      "outputs": []
    },
    {
      "cell_type": "code",
      "metadata": {
        "id": "bN0c0yh1ZkaV"
      },
      "source": [
        "# (optional) install wandb for logging metrics\n",
        "!pip install wandb\n",
        "import wandb\n",
        "wandb.login()"
      ],
      "execution_count": null,
      "outputs": []
    },
    {
      "cell_type": "code",
      "metadata": {
        "id": "Z7ayeVzNZk_r"
      },
      "source": [
        "# (optional) import Google Drive in order to export weights after every epoch and load weights from it\n",
        "from google.colab import drive\n",
        "drive.mount('/content/gdrive')"
      ],
      "execution_count": null,
      "outputs": []
    },
    {
      "cell_type": "markdown",
      "metadata": {
        "id": "ltl-66lqYrRX"
      },
      "source": [
        "##2. Download dataset"
      ]
    },
    {
      "cell_type": "code",
      "metadata": {
        "id": "dp6vbPUYYurI"
      },
      "source": [
        "# paste in CURL link below (recommended) or upload dataset into the files environment\n",
        "%cd /content\n",
        "!curl -L \"<hidden link because contains secret key\" > dataset.zip; unzip dataset.zip; rm dataset.zip"
      ],
      "execution_count": null,
      "outputs": []
    },
    {
      "cell_type": "code",
      "metadata": {
        "colab": {
          "base_uri": "https://localhost:8080/"
        },
        "id": "Ct2vnaKQa_7o",
        "outputId": "8bf9450c-3d4e-4da2-ec95-3623611315d1"
      },
      "source": [
        "#view location of training set and validation set; view the classes in the dataset. Change if required.\n",
        "%cat data.yaml"
      ],
      "execution_count": null,
      "outputs": [
        {
          "output_type": "stream",
          "text": [
            "train: ../train/images\n",
            "val: ../valid/images\n",
            "\n",
            "nc: 80\n",
            "names: ['Bear', 'Brown-bear', 'Bull', 'Butterfly', 'Camel', 'Canary', 'Caterpillar', 'Cattle', 'Centipede', 'Cheetah', 'Chicken', 'Crab', 'Crocodile', 'Deer', 'Duck', 'Eagle', 'Elephant', 'Fish', 'Fox', 'Frog', 'Giraffe', 'Goat', 'Goldfish', 'Goose', 'Hamster', 'Harbor-seal', 'Hedgehog', 'Hippopotamus', 'Horse', 'Jaguar', 'Jellyfish', 'Kangaroo', 'Koala', 'Ladybug', 'Leopard', 'Lion', 'Lizard', 'Lynx', 'Magpie', 'Monkey', 'Moths-and-butterflies', 'Mouse', 'Mule', 'Ostrich', 'Otter', 'Owl', 'Panda', 'Parrot', 'Penguin', 'Pig', 'Polar-bear', 'Rabbit', 'Raccoon', 'Raven', 'Red-panda', 'Rhinoceros', 'Scorpion', 'Sea-lion', 'Sea-turtle', 'Seahorse', 'Shark', 'Sheep', 'Shrimp', 'Snail', 'Snake', 'Sparrow', 'Spider', 'Squid', 'Squirrel', 'Starfish', 'Swan', 'Tick', 'Tiger', 'Tortoise', 'Turkey', 'Turtle', 'Whale', 'Woodpecker', 'Worm', 'Zebra']"
          ],
          "name": "stdout"
        }
      ]
    },
    {
      "cell_type": "markdown",
      "metadata": {
        "id": "pZ1QYHeNaior"
      },
      "source": [
        "#3. Start training\n",
        "\n",
        "Arguments:\n",
        "- **name:** name of model\n",
        "- **img:** image size\n",
        "- **batch:** batch size\n",
        "- **epochs:** number of epochs\n",
        "- **data:** path to yaml file that defines dataset\n",
        "- **weights:** path to weights file. Empty by default (trains from scratch)\n",
        "- **cache:** cache images for faster training\n",
        "- **darknet:** uses CSPDarknet53 architecture. \n",
        "- **medium, large, xlarge** uses YOLOv5m, YOLOv5l, YOLOv5x. YOLOv5s by default.\n",
        "- **cfg** if not CSPDarknet, specify architecture. yolov5s.yaml by default.\n"
      ]
    },
    {
      "cell_type": "code",
      "metadata": {
        "id": "s5RgQNxbambb"
      },
      "source": [
        "%%time\n",
        "%cd /content/yolov5/\n",
        "!python3 train.py --img 416 --batch 96 --epochs 1000 --data '../data.yaml' --name okm --xlarge --darknet"
      ],
      "execution_count": null,
      "outputs": []
    },
    {
      "cell_type": "markdown",
      "metadata": {
        "id": "dkW3zeECizUu"
      },
      "source": [
        "#4. Evaluate detector performance"
      ]
    },
    {
      "cell_type": "markdown",
      "metadata": {
        "id": "W7sP-ciNi5C5"
      },
      "source": [
        "##4.1  Run inference with trained weights"
      ]
    },
    {
      "cell_type": "code",
      "metadata": {
        "id": "1Vh1HeyOi2DH"
      },
      "source": [
        "%cd /content/yolov5/\n",
        "!python detect.py --weights /content/gdrive/MyDrive/NAME/weights/best.pt --img 416 --conf-thres 0.4 --source ../test/images"
      ],
      "execution_count": null,
      "outputs": []
    },
    {
      "cell_type": "markdown",
      "metadata": {
        "id": "6Q8ydsqAjNG5"
      },
      "source": [
        "##4.2 See AP per class"
      ]
    },
    {
      "cell_type": "code",
      "metadata": {
        "id": "iLrx5zYIjP97"
      },
      "source": [
        "!python val.py --data '../data.yaml' --verbose --weights '/content/gdrive/MyDrive/NAME/weights/best.pt' --img 416"
      ],
      "execution_count": null,
      "outputs": []
    }
  ]
}